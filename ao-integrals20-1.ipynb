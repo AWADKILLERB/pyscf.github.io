{
 "cells": [
  {
   "cell_type": "code",
   "execution_count": 30,
   "metadata": {},
   "outputs": [
    {
     "data": {
      "text/plain": [
       "'\\nAccess AO integrals\\n\\nMole.intor and Mole.intor_by_shell functions can generate AO integrals.\\nCalling Mole.intor with the integral function name returns a integral matrix\\nfor all basis functions defined in Mole.  If the integral operator has many\\ncompenents eg gradients.\\n\\nMole.intor_by_shell function generates the integrals for the given shell\\nindices.\\n\\nSee pyscf/gto/moleintor.py file for the complete list of supported integrals.\\n'"
      ]
     },
     "execution_count": 30,
     "metadata": {},
     "output_type": "execute_result"
    }
   ],
   "source": [
    "'''\n",
    "Access AO integrals\n",
    "\n",
    "Mole.intor and Mole.intor_by_shell functions can generate AO integrals.\n",
    "Calling Mole.intor with the integral function name returns a integral matrix\n",
    "for all basis functions defined in Mole.  If the integral operator has many\n",
    "compenents eg gradients.\n",
    "\n",
    "Mole.intor_by_shell function generates the integrals for the given shell\n",
    "indices.\n",
    "\n",
    "See pyscf/gto/moleintor.py file for the complete list of supported integrals.\n",
    "'''\n"
   ]
  },
  {
   "cell_type": "code",
   "execution_count": 31,
   "metadata": {},
   "outputs": [],
   "source": [
    "import numpy\n",
    "from pyscf import gto, scf\n",
    "\n",
    "mol = gto.M(\n",
    "    verbose = 0,\n",
    "    atom = 'C 0 0 0; O 0 0 1.5',\n",
    "    basis = 'ccpvdz'\n",
    ")\n",
    "mf = scf.RHF(mol)\n",
    "mf.kernel()\n",
    "dm = mf.make_rdm1()\n",
    "\n",
    "#"
   ]
  },
  {
   "cell_type": "code",
   "execution_count": 32,
   "metadata": {},
   "outputs": [
    {
     "name": "stdout",
     "output_type": "stream",
     "text": [
      "Dipole [ 1.76281364e-15 -7.23066046e-16  2.34920986e+01]\n"
     ]
    }
   ],
   "source": [
    "# Overlap, kinetic, nuclear attraction\n",
    "#\n",
    "s = mol.intor('int1e_ovlp')\n",
    "t = mol.intor('int1e_kin')\n",
    "v = mol.intor('int1e_nuc')\n",
    "# Overlap, kinetic, nuclear attraction gradients (against electron coordinates\n",
    "# on bra)\n",
    "s1 = mol.intor('int1e_ipovlp')  # (3,N,N) array, 3 for x,y,z components\n",
    "t1 = mol.intor('int1e_ipkin' )  # (3,N,N) array, 3 for x,y,z components\n",
    "v1 = mol.intor('int1e_ipnuc' )  # (3,N,N) array, 3 for x,y,z components\n",
    "\n",
    "mol.set_common_origin([0,0,0])  # Set gauge origin before computing dipole integrals\n",
    "print('Dipole %s' % numpy.einsum('xij,ji->x', mol.intor('int1e_r'), dm))\n",
    "\n",
    "#"
   ]
  },
  {
   "cell_type": "code",
   "execution_count": 33,
   "metadata": {},
   "outputs": [
    {
     "name": "stdout",
     "output_type": "stream",
     "text": [
      "overlap shape (28, 10)\n"
     ]
    }
   ],
   "source": [
    "# AO overlap between two molecules\n",
    "#\n",
    "mol1 = gto.M(\n",
    "    verbose = 0,\n",
    "    atom = 'H 0 1 0; H 1 0 0',\n",
    "    basis = 'ccpvdz'\n",
    ")\n",
    "s = gto.intor_cross('int1e_ovlp', mol, mol1)\n",
    "print('overlap shape (%d, %d)' % s.shape)\n"
   ]
  },
  {
   "cell_type": "code",
   "execution_count": 34,
   "metadata": {},
   "outputs": [],
   "source": [
    "#\n",
    "# 2e integrals.  Keyword aosym is to specify the permutation symmetry in the\n",
    "# AO integral matrix.  s8 means 8-fold symmetry, s2kl means 2-fold symmetry\n",
    "# for the symmetry between kl in (ij|kl)\n",
    "#\n",
    "eri = mol.intor('int2e', aosym='s8')\n",
    "\n",
    "\n",
    "#\n",
    "# 2e gradient integrals (against electronic coordinates) on bra of first atom.\n",
    "# aosym=s2kl indicates that the permutation symmetry is used on k,l indices of\n",
    "# (ij|kl). The resultant eri is a 3-dimension array (3, N*N, N*(N+1)/2) where\n",
    "# N is the number of AO orbitals.\n",
    "#\n",
    "eri = mol.intor('int2e_ip1', aosym='s2kl')\n"
   ]
  },
  {
   "cell_type": "code",
   "execution_count": 35,
   "metadata": {},
   "outputs": [],
   "source": [
    "#\n",
    "# Settting aosym=s1 (the default flag) leads to a 3-dimension (3, N*N, N*N)\n",
    "# eri array.\n",
    "#\n",
    "nao = mol.nao_nr()\n",
    "eri = mol.intor('int2e_ip1').reshape(3,nao,nao,nao,nao)\n",
    "\n",
    "\n",
    "#"
   ]
  },
  {
   "cell_type": "code",
   "execution_count": 36,
   "metadata": {},
   "outputs": [
    {
     "name": "stdout",
     "output_type": "stream",
     "text": [
      "integral shape (3, 14, 28, 28, 28)\n"
     ]
    }
   ],
   "source": [
    "atm_id = 1  # second atom\n",
    "bas_start, bas_end, ao_start, ao_end = mol.aoslice_by_atom()[atm_id]\n",
    "tot_bra = ao_end - ao_start\n",
    "nao = mol.nao_nr()\n",
    "eri1 = numpy.empty((3,tot_bra,nao,nao,nao))\n",
    "pi = 0\n",
    "for i in range(mol.nbas):\n",
    "    if mol.bas_atom(i) == atm_id:\n",
    "        pj = 0\n",
    "        for j in range(mol.nbas):\n",
    "            pk = 0\n",
    "            for k in range(mol.nbas):\n",
    "                pl = 0\n",
    "                for l in range(mol.nbas):\n",
    "                    shls = (i, j, k, l)\n",
    "                    buf = mol.intor_by_shell('int2e_ip1_sph', shls)\n",
    "                    comp_3, di, dj, dk, dl = buf.shape\n",
    "                    eri1[:,pi:pi+di,pj:pj+dj,pk:pk+dk,pl:pl+dl] = buf\n",
    "                    pl += dl\n",
    "                pk += dk\n",
    "            pj += dj\n",
    "        pi += di\n",
    "print('integral shape %s' % str(eri1.shape))\n",
    "# This integral block can be generated using mol.intor\n",
    "eri1 = mol.intor('int2e_ip1_sph', shls_slice=(bas_start, bas_end,\n",
    "                                              0, mol.nbas,\n",
    "                                              0, mol.nbas,\n",
    "                                              0, mol.nbas))\n",
    "\n",
    "\n",
    "#"
   ]
  },
  {
   "cell_type": "code",
   "execution_count": 37,
   "metadata": {},
   "outputs": [],
   "source": [
    "# Generate a sub-block of AO integrals.  The sub-block (ij|kl) contains the\n",
    "# shells 2:5 for basis i, 0:2 for j, 0:4 for k and 1:3 for l\n",
    "#"
   ]
  },
  {
   "cell_type": "code",
   "execution_count": 38,
   "metadata": {},
   "outputs": [],
   "source": [
    "sub_eri = mol.intor('int2e', shls_slice=(2,5,0,2,0,4,1,3))\n",
    "\n",
    "# This statement is equivalent to\n",
    "dims = []\n",
    "for i in range(mol.nbas):\n",
    "    l = mol.bas_angular(i)\n",
    "    nc = mol.bas_nctr(i)\n",
    "    dims.append((l * 2 + 1) * nc)\n",
    "nao_i = sum(dims[2:5])\n",
    "nao_j = sum(dims[0:2])\n",
    "nao_k = sum(dims[0:4])\n",
    "nao_l = sum(dims[1:3])\n",
    "sub_eri = numpy.empty((nao_i,nao_j,nao_k,nao_l))\n",
    "pi = 0\n",
    "for i in range(2,5):\n",
    "    pj = 0\n",
    "    for j in range(0,2):\n",
    "        pk = 0\n",
    "        for k in range(0,4):\n",
    "            pl = 0\n",
    "            for l in range(1,3):\n",
    "                shls = (i, j, k, l)\n",
    "                buf = mol.intor_by_shell('int2e_sph', shls)\n",
    "                di, dj, dk, dl = buf.shape\n",
    "                sub_eri[pi:pi+di,pj:pj+dj,pk:pk+dk,pl:pl+dl] = buf\n",
    "                pl += dl\n",
    "            pk += dk\n",
    "        pj += dj\n",
    "    pi += di\n",
    "sub_eri = sub_eri.reshape(nao_i*nao_j,nao_k*nao_l)\n",
    "\n",
    "#"
   ]
  },
  {
   "cell_type": "code",
   "execution_count": 39,
   "metadata": {},
   "outputs": [],
   "source": [
    "# 2-electron integrals over different molecules. E.g. a,c of (ab|cd) on one molecule\n",
    "# and b on another molecule and d on the third molecule.\n",
    "#\n",
    "mol1 = mol\n",
    "mol2 = gto.M(atom='He', basis='ccpvdz')\n",
    "mol3 = gto.M(atom='O', basis='sto-3g')\n",
    "\n",
    "mol123 = mol1 + mol2 + mol3\n",
    "eri = mol123.intor('int2e', shls_slice=(0, mol1.nbas,\n",
    "                                        mol1.nbas, mol1.nbas+mol2.nbas,\n",
    "                                        0, mol1.nbas,\n",
    "                                        mol1.nbas+mol2.nbas, mol123.nbas))\n",
    "\n",
    "\n",
    "#\n",
    "# Generate all AO integrals for a sub-system.\n",
    "#"
   ]
  },
  {
   "cell_type": "code",
   "execution_count": 40,
   "metadata": {},
   "outputs": [],
   "source": [
    "mol = gto.M(atom=[['H', 0,0,i] for i in range(10)])\n",
    "atom_idx = [0,2,4]  # atoms in the sub-system\n",
    "sub_mol = mol.copy()\n",
    "sub_mol._bas = mol._bas[atom_idx]\n",
    "sub_eri = sub_mol.intor('int2e', aosym='s1')\n",
    "\n",
    "# This statement is equivalent to\n",
    "sub_nao = 0\n",
    "for i in range(mol.nbas):\n",
    "    if mol.bas_atom(i) in atom_idx:\n",
    "        l = mol.bas_angular(i)\n",
    "        nc = mol.bas_nctr(i)\n",
    "        sub_nao += (l * 2 + 1) * nc\n",
    "sub_eri = numpy.empty((sub_nao,sub_nao,sub_nao,sub_nao))\n",
    "pi = 0\n",
    "for i in range(mol.nbas):\n",
    "    if mol.bas_atom(i) in atom_idx:\n",
    "        pj = 0\n",
    "        for j in range(mol.nbas):\n",
    "            if mol.bas_atom(j) in atom_idx:\n",
    "                pk = 0\n",
    "                for k in range(mol.nbas):\n",
    "                    if mol.bas_atom(k) in atom_idx:\n",
    "                        pl = 0\n",
    "                        for l in range(mol.nbas):\n",
    "                            if mol.bas_atom(l) in atom_idx:\n",
    "                                shls = (i, j, k, l)\n",
    "                                buf = mol.intor_by_shell('int2e_sph', shls)\n",
    "                                di, dj, dk, dl = buf.shape\n",
    "                                sub_eri[pi:pi+di,pj:pj+dj,pk:pk+dk,pl:pl+dl] = buf\n",
    "                                pl += dl\n",
    "                        pk += dk\n",
    "                pj += dj\n",
    "        pi += di\n",
    "sub_eri = sub_eri.reshape(sub_nao**2,sub_nao**2)\n",
    "\n"
   ]
  },
  {
   "cell_type": "code",
   "execution_count": 41,
   "metadata": {},
   "outputs": [],
   "source": [
    "'''\n",
    "AO integrals from spherical GTO basis representation to spinor-GTO basis\n",
    "representation.\n",
    "\n",
    "Generally, the transformation requires two steps.  First is to form a\n",
    "quaternion matrix (2x2 super matrix) using Pauli matrices (sigma_2x2)\n",
    "\n",
    "        1_2x2 + 1j*sigma_2x2\n",
    "\n",
    "Second is to contract to the Clebsch-Gordan coefficients (spherical to spinor\n",
    "transformation coefficients).\n",
    "'''\n",
    "\n",
    "import numpy\n",
    "from pyscf import gto, lib\n",
    "\n",
    "mol = gto.M(atom = 'H 0 0 0 \\n F 0 0 1.1',\n",
    "            basis = 'cc-pvdz')\n",
    "\n",
    "nao = mol.nao_nr()\n",
    "\n",
    "paulix, pauliy, pauliz = lib.PauliMatrices\n",
    "iden = numpy.eye(2)\n"
   ]
  },
  {
   "cell_type": "code",
   "execution_count": 42,
   "metadata": {},
   "outputs": [
    {
     "name": "stdout",
     "output_type": "stream",
     "text": [
      "3.552713678800501e-15\n"
     ]
    }
   ],
   "source": [
    "################################################################################\n",
    "#\n",
    "# Integrals without pauli matrices.\n",
    "#\n",
    "################################################################################\n",
    "ints_spinor = mol.intor('int1e_nuc_spinor')\n",
    "\n",
    "ints_sph = mol.intor('int1e_nuc_sph')\n",
    "ints_sph = numpy.einsum('ij,pq->ijpq', iden, ints_sph)\n",
    "\n",
    "c = mol.sph2spinor_coeff()\n",
    "\n",
    "ints_from_sph = numpy.einsum('ipa,ijpq,jqb->ab', numpy.conj(c), ints_sph, c)\n",
    "\n",
    "print(abs(ints_from_sph - ints_spinor).max())\n",
    "\n",
    "################################################################################\n",
    "#\n",
    "# Integrals with pauli matrices and they are real in the spherical GTO basis\n",
    "# representation\n",
    "#"
   ]
  },
  {
   "cell_type": "code",
   "execution_count": 43,
   "metadata": {},
   "outputs": [
    {
     "name": "stdout",
     "output_type": "stream",
     "text": [
      "1.1368683772161603e-13\n"
     ]
    }
   ],
   "source": [
    "################################################################################\n",
    "ints_spinor = mol.intor('int1e_spnucsp_spinor')\n",
    "\n",
    "# When integrals contains Pauli matrices, they spherical representation have\n",
    "# four components. The first three correspond to the three Pauli matrices and\n",
    "# the last one corresponds to identity of quaternion.\n",
    "ints_sph = mol.intor('int1e_spnucsp_sph', comp=4)\n",
    "ints_sx = ints_sph[0]\n",
    "ints_sy = ints_sph[1]\n",
    "ints_sz = ints_sph[2]\n",
    "ints_1 = ints_sph[3]\n",
    "ints_sph = (numpy.einsum('ij,pq->ijpq', 1j*paulix, ints_sx) +\n",
    "            numpy.einsum('ij,pq->ijpq', 1j*pauliy, ints_sy) +\n",
    "            numpy.einsum('ij,pq->ijpq', 1j*pauliz, ints_sz) +\n",
    "            numpy.einsum('ij,pq->ijpq', iden     , ints_1 ))\n",
    "\n",
    "c = mol.sph2spinor_coeff()\n",
    "\n",
    "ints_from_sph = numpy.einsum('ipa,ijpq,jqb->ab', numpy.conj(c), ints_sph, c)\n",
    "print(abs(ints_from_sph - ints_spinor).max())\n"
   ]
  },
  {
   "cell_type": "code",
   "execution_count": 44,
   "metadata": {},
   "outputs": [
    {
     "name": "stdout",
     "output_type": "stream",
     "text": [
      "5.684341886080802e-14\n"
     ]
    }
   ],
   "source": [
    "################################################################################\n",
    "#\n",
    "# Integrals with pauli matrices and they are pure imaginary numbers in the\n",
    "# spherical GTO basis representation\n",
    "#\n",
    "################################################################################\n",
    "ints_spinor = mol.intor('int1e_cg_sa10nucsp_spinor', comp=3)\n",
    "\n",
    "ints_sph = mol.intor('int1e_cg_sa10nucsp_sph', comp=12).reshape(3,4,nao,nao)\n",
    "ints_sx = ints_sph[:,0]\n",
    "ints_sy = ints_sph[:,1]\n",
    "ints_sz = ints_sph[:,2]\n",
    "ints_1 = ints_sph[:,3]\n",
    "# In the integral <r \\times \\sigma V \\sigma \\dot p >, the coefficients of the\n",
    "# quaternion basis are pure imaginary numbers.  The integral engine returns\n",
    "# the imaginary part of the coefficients (thus multiplying them by factor 1j).\n",
    "ints_sph = 1j * (numpy.einsum('ij,xpq->xijpq', 1j*paulix, ints_sx) +\n",
    "                 numpy.einsum('ij,xpq->xijpq', 1j*pauliy, ints_sy) +\n",
    "                 numpy.einsum('ij,xpq->xijpq', 1j*pauliz, ints_sz) +\n",
    "                 numpy.einsum('ij,xpq->xijpq', iden     , ints_1 ))\n",
    "\n",
    "c = mol.sph2spinor_coeff()\n",
    "\n",
    "ints_from_sph = numpy.einsum('ipa,xijpq,jqb->xab', numpy.conj(c), ints_sph, c)\n",
    "\n",
    "print(abs(ints_from_sph - ints_spinor).max())\n",
    "\n",
    "#"
   ]
  },
  {
   "cell_type": "code",
   "execution_count": 45,
   "metadata": {},
   "outputs": [
    {
     "name": "stdout",
     "output_type": "stream",
     "text": [
      "1.4210854715202004e-14\n",
      "1.3642420526593924e-12\n"
     ]
    }
   ],
   "source": [
    "#\n",
    "# Integrals (LS|LS) related to Gaunt term\n",
    "#\n",
    "# Note the order of spin operators\n",
    "# SIGMA1X * SIGMA2X     0\n",
    "# SIGMA1Y * SIGMA2X     1\n",
    "# SIGMA1Z * SIGMA2X     2\n",
    "# I1_2x2  * SIGMA2X     3\n",
    "# SIGMA1X * SIGMA2Y     4\n",
    "# SIGMA1Y * SIGMA2Y     5\n",
    "# SIGMA1Z * SIGMA2Y     6\n",
    "# I1_2x2  * SIGMA2Y     7\n",
    "# SIGMA1X * SIGMA2Z     8\n",
    "# SIGMA1Y * SIGMA2Z     9\n",
    "# SIGMA1Z * SIGMA2Z     10\n",
    "# I1_2x2  * SIGMA2Z     11\n",
    "# SIGMA1X * I2_2x2      12\n",
    "# SIGMA1Y * I2_2x2      13\n",
    "# SIGMA1Z * I2_2x2      14\n",
    "# I1_2x2  * I2_2x2      15\n",
    "gaunt_spinor = mol.intor('int2e_ssp1ssp2_spinor')\n",
    "gaunt_sph = mol.intor('int2e_ssp1ssp2')\n",
    "si = numpy.array([paulix * 1j, pauliy * 1j, pauliz * 1j, iden])\n",
    "# Be careful with the order of the 16 components:\n",
    "# index for electron 1 runs inside, index for electron 2 runs outside\n",
    "ints_from_sph = lib.einsum('xypqrs,xij,ykl,ipa,jqb,krc,lsd->abcd',\n",
    "                           gaunt_sph.reshape(4,4,nao,nao,nao,nao).transpose(1,0,2,3,4,5),\n",
    "                           si, si, c.conj(), c, c.conj(), c)\n",
    "print(abs(ints_from_sph - gaunt_spinor).max())\n",
    "\n",
    "#\n",
    "# (SS|SS) for four small component basis functions in Dirac-Coulomb interaction\n",
    "#\n",
    "ssss_spinor = mol.intor('int2e_spsp1spsp2_spinor')\n",
    "ssss_sph = mol.intor('int2e_spsp1spsp2')\n",
    "si = numpy.array([paulix * 1j, pauliy * 1j, pauliz * 1j, iden])\n",
    "# Be careful with the order of the 16 components:\n",
    "# index for electron 1 runs inside, index for electron 2 runs outside\n",
    "ssss_from_sph = lib.einsum('xypqrs,xij,ykl,ipa,jqb,krc,lsd->abcd',\n",
    "                           ssss_sph.reshape(4,4,nao,nao,nao,nao).transpose(1,0,2,3,4,5),\n",
    "                           si, si, c.conj(), c, c.conj(), c)\n",
    "print(abs(ssss_from_sph - ssss_spinor).max())\n"
   ]
  }
 ],
 "metadata": {
  "kernelspec": {
   "display_name": "qiskit_env",
   "language": "python",
   "name": "python3"
  },
  "language_info": {
   "codemirror_mode": {
    "name": "ipython",
    "version": 3
   },
   "file_extension": ".py",
   "mimetype": "text/x-python",
   "name": "python",
   "nbconvert_exporter": "python",
   "pygments_lexer": "ipython3",
   "version": "3.12.3"
  }
 },
 "nbformat": 4,
 "nbformat_minor": 2
}
